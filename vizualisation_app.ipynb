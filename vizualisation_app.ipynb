{
 "cells": [
  {
   "cell_type": "markdown",
   "metadata": {
    "id": "xLCFT6glV6UB"
   },
   "source": [
    "This notebook queries data from our twitter-topic-sentiment Flask api and displays some results."
   ]
  },
  {
   "cell_type": "code",
   "execution_count": 2,
   "metadata": {
    "id": "4tDb6xdOVl2d"
   },
   "outputs": [],
   "source": [
    "import requests\n",
    "import json\n",
    "\n",
    "import pandas as pd\n",
    "import matplotlib.pyplot as plt\n",
    "import seaborn as sns\n",
    "# from wordcloud import WordCloud"
   ]
  },
  {
   "cell_type": "markdown",
   "metadata": {
    "id": "MbXiJ1F-XLOa"
   },
   "source": [
    "### Request to our FLASK API "
   ]
  },
  {
   "cell_type": "code",
   "execution_count": 4,
   "metadata": {
    "id": "5kRfeB-QXKzS"
   },
   "outputs": [],
   "source": [
    "REST_API_URL = \"URL_OF_YOUR_FLASK_SERVER\" #path to the server exposing your FLASK API\n",
    "request_url = REST_API_URL + \"sentiment\"\n",
    "\n",
    "# REST_API_URL = \"http://127.0.0.1:5000/\" #path to the server exposing your FLASK API\n",
    "# request_url = REST_API_URL + \"test_params\""
   ]
  },
  {
   "cell_type": "code",
   "execution_count": 31,
   "metadata": {
    "id": "jkjNJtIcmSPV"
   },
   "outputs": [],
   "source": [
    "hashtag = 'twitter'\n",
    "request_parameters = {'hashtag': hashtag, 'nb_days': 7, 'nb_tweets': 70,\n",
    "                      'get_topic_words': \"1\",'n_topics': 10,'n_words_per_topic': 10,\n",
    "                      'lda_passes': 2,'return_tweets': \"0\",'language':'en'}\n",
    "response = requests.get(request_url,params=request_parameters)\n",
    "api_results = response.json()"
   ]
  },
  {
   "cell_type": "markdown",
   "metadata": {
    "id": "1ioichM7-DNA"
   },
   "source": [
    "### Sentiment visualization"
   ]
  },
  {
   "cell_type": "code",
   "execution_count": null,
   "metadata": {
    "id": "eZ4gTa4brNJ4"
   },
   "outputs": [],
   "source": [
    "tweets_sentiments_df = pd.read_json(api_results[\"sentiments_json\"])\n",
    "tweets_sentiments_df.created_at = pd.to_datetime(tweets_sentiments_df.created_at).dt.date\n",
    "tweets_sentiments_df[\"NEGATIVE\"] =  - tweets_sentiments_df[\"NEGATIVE\"]"
   ]
  },
  {
   "cell_type": "code",
   "execution_count": null,
   "metadata": {
    "id": "jcbVwwqk9-bJ"
   },
   "outputs": [],
   "source": [
    "plt.figure(figsize=(25,5))\n",
    "sns.barplot(x=\"created_at\",y=\"POSITIVE\",color = \"green\",label=\"positive sentiment\",ci=None,data=tweets_sentiments_df)\n",
    "ax = sns.barplot(x=\"created_at\",y=\"NEGATIVE\",color = \"red\",label=\"negative sentiment\",ci=None,data=tweets_sentiments_df)\n",
    "\n",
    "ax.set_xlabel(\"created_at\",fontsize=20,color=\"gray\")\n",
    "ax.set_ylabel(\"sentiment\",fontsize=20,color=\"gray\")\n",
    "ax.tick_params(labelsize=15,labelcolor=\"white\")\n",
    "\n",
    "plt.xticks(rotation=10)\n",
    "plt.title(\"Sentiment polarity (over {} tweets) during last week for hastag {} : \".format(len(tweets_sentiments_df),hashtag),color=\"white\",fontsize=20)\n",
    "plt.legend()\n",
    "plt.show()"
   ]
  },
  {
   "cell_type": "markdown",
   "metadata": {
    "id": "_t9yUZQQB_FO"
   },
   "source": [
    "### Topic visualization"
   ]
  },
  {
   "cell_type": "code",
   "execution_count": null,
   "metadata": {
    "id": "6F4BxyAqrU_o"
   },
   "outputs": [],
   "source": [
    "top_topics_df = pd.read_json(api_results[\"top_topics_json\"])"
   ]
  },
  {
   "cell_type": "code",
   "execution_count": null,
   "metadata": {
    "id": "-cu048d8r9AW"
   },
   "outputs": [],
   "source": [
    "### Word Cloud\n",
    "topic_num = 0\n",
    "topic_to_plot = top_topics_df.loc[top_topics_df.topics==topic_num]\n",
    "frequencies_dict = {topic_to_plot.iloc[i][\"words\"]:topic_to_plot.iloc[i][\"proba\"] for i in range(len(topic_to_plot))}\n",
    "\n",
    "wordcloud = WordCloud()\n",
    "wordcloud.generate_from_frequencies(frequencies_dict)\n",
    "\n",
    "plt.figure(figsize=(20,5))\n",
    "plt.imshow(wordcloud, interpolation=\"bilinear\")\n",
    "plt.axis(\"off\")\n",
    "plt.show()"
   ]
  }
 ],
 "metadata": {
  "colab": {
   "collapsed_sections": [],
   "name": "twitter_hashtag_analysis_app.ipynb",
   "provenance": []
  },
  "kernelspec": {
   "display_name": "Python 3",
   "language": "python",
   "name": "python3"
  },
  "language_info": {
   "codemirror_mode": {
    "name": "ipython",
    "version": 3
   },
   "file_extension": ".py",
   "mimetype": "text/x-python",
   "name": "python",
   "nbconvert_exporter": "python",
   "pygments_lexer": "ipython3",
   "version": "3.7.3"
  },
  "toc": {
   "base_numbering": 1,
   "nav_menu": {},
   "number_sections": true,
   "sideBar": true,
   "skip_h1_title": false,
   "title_cell": "Table of Contents",
   "title_sidebar": "Contents",
   "toc_cell": false,
   "toc_position": {},
   "toc_section_display": true,
   "toc_window_display": false
  },
  "varInspector": {
   "cols": {
    "lenName": 16,
    "lenType": 16,
    "lenVar": 40
   },
   "kernels_config": {
    "python": {
     "delete_cmd_postfix": "",
     "delete_cmd_prefix": "del ",
     "library": "var_list.py",
     "varRefreshCmd": "print(var_dic_list())"
    },
    "r": {
     "delete_cmd_postfix": ") ",
     "delete_cmd_prefix": "rm(",
     "library": "var_list.r",
     "varRefreshCmd": "cat(var_dic_list()) "
    }
   },
   "types_to_exclude": [
    "module",
    "function",
    "builtin_function_or_method",
    "instance",
    "_Feature"
   ],
   "window_display": false
  }
 },
 "nbformat": 4,
 "nbformat_minor": 1
}
