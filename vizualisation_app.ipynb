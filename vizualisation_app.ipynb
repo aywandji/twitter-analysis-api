{
  "nbformat": 4,
  "nbformat_minor": 0,
  "metadata": {
    "colab": {
      "name": "twitter_hashtag_analysis_app.ipynb",
      "provenance": [],
      "collapsed_sections": []
    },
    "kernelspec": {
      "name": "python3",
      "display_name": "Python 3"
    }
  },
  "cells": [
    {
      "cell_type": "markdown",
      "metadata": {
        "id": "xLCFT6glV6UB"
      },
      "source": [
        "This notebook queries data from our twitter-topic-sentiment Flask api and displays some results."
      ]
    },
    {
      "cell_type": "code",
      "metadata": {
        "id": "4tDb6xdOVl2d"
      },
      "source": [
        "import pandas as pd\n",
        "import matplotlib.pyplot as plt\n",
        "import seaborn as sns\n",
        "from wordcloud import WordCloud\n",
        "import json"
      ],
      "execution_count": null,
      "outputs": []
    },
    {
      "cell_type": "markdown",
      "metadata": {
        "id": "MbXiJ1F-XLOa"
      },
      "source": [
        "### Request to our FLASK API "
      ]
    },
    {
      "cell_type": "code",
      "metadata": {
        "id": "5kRfeB-QXKzS"
      },
      "source": [
        "REST_API_URL = \"localhost/\" #path to the server exposing your FLASK API\n",
        "request_url = REST_API_URL + \"sentiment\""
      ],
      "execution_count": null,
      "outputs": []
    },
    {
      "cell_type": "code",
      "metadata": {
        "id": "jkjNJtIcmSPV"
      },
      "source": [
        "hashtag = '#twitter'\n",
        "request_parameters = {'hashtag': hashtag, 'nb_days': 7, 'nb_tweets': 70,\n",
        "                      'get_topic_words': True,'n_topics': 10,'n_words_per_topic': 10,\n",
        "                      'lda_passes': 2,'return_tweets': False,'language':'en'}\n",
        "response = requests.get(request_url,params=request_parameters)\n",
        "response_dict = json.loads(response.json())"
      ],
      "execution_count": null,
      "outputs": []
    },
    {
      "cell_type": "code",
      "metadata": {
        "id": "mYvWvR-_qbZW"
      },
      "source": [
        "# tweets_sentiments_df = pd.from_json(response_dict[\"top_topics\"])\n"
      ],
      "execution_count": null,
      "outputs": []
    },
    {
      "cell_type": "markdown",
      "metadata": {
        "id": "1ioichM7-DNA"
      },
      "source": [
        "### Sentiment visualization"
      ]
    },
    {
      "cell_type": "code",
      "metadata": {
        "id": "eZ4gTa4brNJ4"
      },
      "source": [
        "tweets_sentiments_df = pd.read_json(api_results[\"sentiments_json\"])\n",
        "tweets_sentiments_df.created_at = pd.to_datetime(tweets_sentiments_df.created_at).dt.date"
      ],
      "execution_count": null,
      "outputs": []
    },
    {
      "cell_type": "code",
      "metadata": {
        "id": "jcbVwwqk9-bJ"
      },
      "source": [
        "plt.figure(figsize=(20,5))\n",
        "sns.barplot(x=\"created_at\",y=\"pos_sentiment\",color = \"green\",label=\"positive sentiment\",capsize=.2,data=tweets_sentiments_df)\n",
        "ax = sns.barplot(x=\"created_at\",y=\"neg_sentiment\",color = \"red\",label=\"negative sentiment\",capsize=.2,data=tweets_sentiments_df)\n",
        "\n",
        "ax.set_ylabel(\"sentiment\")\n",
        "plt.xticks(rotation=10)\n",
        "plt.title(\"Sentiment polarity (over {} tweets) during last week for hastag {} : \".format(len(tweets_sentiments_df),hashtag))\n",
        "plt.legend()\n",
        "plt.show()"
      ],
      "execution_count": null,
      "outputs": []
    },
    {
      "cell_type": "markdown",
      "metadata": {
        "id": "_t9yUZQQB_FO"
      },
      "source": [
        "### Topic visualization"
      ]
    },
    {
      "cell_type": "code",
      "metadata": {
        "id": "6F4BxyAqrU_o"
      },
      "source": [
        "top_topics_df = pd.read_json(api_results[\"top_topics_json\"])"
      ],
      "execution_count": null,
      "outputs": []
    },
    {
      "cell_type": "code",
      "metadata": {
        "id": "-cu048d8r9AW"
      },
      "source": [
        "### Word Cloud\n",
        "topic_num = 0\n",
        "topic_to_plot = top_topics_df.loc[top_topics_df.topics==topic_num]\n",
        "frequencies_dict = {topic_to_plot.iloc[i][\"words\"]:topic_to_plot.iloc[i][\"proba\"] for i in range(len(topic_to_plot))}\n",
        "\n",
        "wordcloud = WordCloud()\n",
        "wordcloud.generate_from_frequencies(frequencies_dict)\n",
        "\n",
        "plt.figure(figsize=(20,5))\n",
        "plt.imshow(wordcloud, interpolation=\"bilinear\")\n",
        "plt.axis(\"off\")\n",
        "plt.show()"
      ],
      "execution_count": null,
      "outputs": []
    },
    {
      "cell_type": "code",
      "metadata": {
        "id": "p4WvTi1iXmLh"
      },
      "source": [
        "wordcloud = WordCloud()\n",
        "wordcloud.generate_from_frequencies(frequencies_dict)\n",
        "\n",
        "plt.figure(figsize=(20,5))\n",
        "plt.imshow(wordcloud, interpolation=\"bilinear\")\n",
        "plt.axis(\"off\")\n",
        "plt.show()"
      ],
      "execution_count": null,
      "outputs": []
    }
  ]
}